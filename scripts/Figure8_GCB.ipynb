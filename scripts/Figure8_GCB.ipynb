{
 "cells": [
  {
   "attachments": {},
   "cell_type": "markdown",
   "metadata": {
    "id": "RTSp_b5tBbIQ"
   },
   "source": [
    "**Author :** Clara Fronda, Laboratoire de Physique de l'Ecole Normale Supérieure (Paris, France).\n",
    "\n",
    "**Email :** clara.fronda@phys.ens.fr\n",
    "\n",
    "This script contains a simplified example of the temperature-nutrient growth relationship under the Kremer and Anderson parameterizations.\n",
    "\n",
    "**Inputs :** ModelParameters.csv\n",
    "\n",
    "**Outputs :** Figure 8"
   ]
  },
  {
   "cell_type": "markdown",
   "metadata": {
    "id": "xjpa3BzbsnIL"
   },
   "source": []
  },
  {
   "cell_type": "code",
   "execution_count": 38,
   "metadata": {
    "id": "EMLoE6LgY4k6"
   },
   "outputs": [],
   "source": [
    "import numpy as np\n",
    "import matplotlib.pyplot as plt\n",
    "import pandas as pd\n",
    "import math\n",
    "from pylab import *"
   ]
  },
  {
   "cell_type": "code",
   "execution_count": 39,
   "metadata": {
    "colab": {
     "base_uri": "https://localhost:8080/",
     "height": 426
    },
    "id": "3jGxPgYTgYz0",
    "outputId": "ae5db169-8be4-48c5-8fe1-a3d3a003ccf9"
   },
   "outputs": [
    {
     "data": {
      "text/html": [
       "<div>\n",
       "<style scoped>\n",
       "    .dataframe tbody tr th:only-of-type {\n",
       "        vertical-align: middle;\n",
       "    }\n",
       "\n",
       "    .dataframe tbody tr th {\n",
       "        vertical-align: top;\n",
       "    }\n",
       "\n",
       "    .dataframe thead th {\n",
       "        text-align: right;\n",
       "    }\n",
       "</style>\n",
       "<table border=\"1\" class=\"dataframe\">\n",
       "  <thead>\n",
       "    <tr style=\"text-align: right;\">\n",
       "      <th></th>\n",
       "      <th>Model</th>\n",
       "      <th>Group</th>\n",
       "      <th>b</th>\n",
       "      <th>umax 20</th>\n",
       "      <th>a_PCmax</th>\n",
       "      <th>phenotype</th>\n",
       "      <th>K_N</th>\n",
       "      <th>umax 0</th>\n",
       "    </tr>\n",
       "  </thead>\n",
       "  <tbody>\n",
       "    <tr>\n",
       "      <th>0</th>\n",
       "      <td>SQSU (Generic Q10)</td>\n",
       "      <td>Coccolithophores</td>\n",
       "      <td>0.0382</td>\n",
       "      <td>1.8269</td>\n",
       "      <td>2.3819</td>\n",
       "      <td>c5</td>\n",
       "      <td>0.11375</td>\n",
       "      <td>0.8510</td>\n",
       "    </tr>\n",
       "    <tr>\n",
       "      <th>1</th>\n",
       "      <td>SQSU (Generic Q10)</td>\n",
       "      <td>Dinoflagellates</td>\n",
       "      <td>0.0382</td>\n",
       "      <td>1.8269</td>\n",
       "      <td>3.0166</td>\n",
       "      <td>c24</td>\n",
       "      <td>0.27262</td>\n",
       "      <td>0.8510</td>\n",
       "    </tr>\n",
       "    <tr>\n",
       "      <th>2</th>\n",
       "      <td>SQSU (Generic Q10)</td>\n",
       "      <td>Cyanobacteria</td>\n",
       "      <td>0.0382</td>\n",
       "      <td>1.8269</td>\n",
       "      <td>2.3446</td>\n",
       "      <td>c2</td>\n",
       "      <td>0.03065</td>\n",
       "      <td>0.8510</td>\n",
       "    </tr>\n",
       "    <tr>\n",
       "      <th>3</th>\n",
       "      <td>SQSU (Generic Q10)</td>\n",
       "      <td>Diatoms</td>\n",
       "      <td>0.0382</td>\n",
       "      <td>1.8269</td>\n",
       "      <td>2.3819</td>\n",
       "      <td>c15</td>\n",
       "      <td>0.11375</td>\n",
       "      <td>0.8510</td>\n",
       "    </tr>\n",
       "    <tr>\n",
       "      <th>4</th>\n",
       "      <td>SQDU (Different µmax)</td>\n",
       "      <td>Dinoflagellates</td>\n",
       "      <td>0.0575</td>\n",
       "      <td>0.8195</td>\n",
       "      <td>1.3532</td>\n",
       "      <td>c24</td>\n",
       "      <td>0.12229</td>\n",
       "      <td>0.2595</td>\n",
       "    </tr>\n",
       "    <tr>\n",
       "      <th>5</th>\n",
       "      <td>SQDU (Different µmax)</td>\n",
       "      <td>Cyanobacteria</td>\n",
       "      <td>0.0575</td>\n",
       "      <td>0.9193</td>\n",
       "      <td>1.1798</td>\n",
       "      <td>c2</td>\n",
       "      <td>0.01543</td>\n",
       "      <td>0.2911</td>\n",
       "    </tr>\n",
       "    <tr>\n",
       "      <th>6</th>\n",
       "      <td>SQDU (Different µmax)</td>\n",
       "      <td>Diatoms</td>\n",
       "      <td>0.0575</td>\n",
       "      <td>2.2122</td>\n",
       "      <td>2.8842</td>\n",
       "      <td>c15</td>\n",
       "      <td>0.13773</td>\n",
       "      <td>0.7005</td>\n",
       "    </tr>\n",
       "    <tr>\n",
       "      <th>7</th>\n",
       "      <td>SQDU (Different µmax)</td>\n",
       "      <td>Coccolithophores</td>\n",
       "      <td>0.0575</td>\n",
       "      <td>1.6581</td>\n",
       "      <td>2.1618</td>\n",
       "      <td>c5</td>\n",
       "      <td>0.10324</td>\n",
       "      <td>0.5250</td>\n",
       "    </tr>\n",
       "    <tr>\n",
       "      <th>8</th>\n",
       "      <td>DQDU (Different Q10s)</td>\n",
       "      <td>Coccolithophores</td>\n",
       "      <td>0.0353</td>\n",
       "      <td>1.4920</td>\n",
       "      <td>1.9558</td>\n",
       "      <td>c5</td>\n",
       "      <td>0.09340</td>\n",
       "      <td>0.7408</td>\n",
       "    </tr>\n",
       "    <tr>\n",
       "      <th>9</th>\n",
       "      <td>DQDU (Different Q10s)</td>\n",
       "      <td>Dinoflagellates</td>\n",
       "      <td>0.0512</td>\n",
       "      <td>0.8057</td>\n",
       "      <td>1.3363</td>\n",
       "      <td>c24</td>\n",
       "      <td>0.12076</td>\n",
       "      <td>0.2905</td>\n",
       "    </tr>\n",
       "    <tr>\n",
       "      <th>10</th>\n",
       "      <td>DQDU (Different Q10s)</td>\n",
       "      <td>Cyanobacteria</td>\n",
       "      <td>0.0758</td>\n",
       "      <td>0.8685</td>\n",
       "      <td>1.1098</td>\n",
       "      <td>c2</td>\n",
       "      <td>0.01451</td>\n",
       "      <td>0.1899</td>\n",
       "    </tr>\n",
       "    <tr>\n",
       "      <th>11</th>\n",
       "      <td>DQDU (Different Q10s)</td>\n",
       "      <td>Diatoms</td>\n",
       "      <td>0.0438</td>\n",
       "      <td>1.9232</td>\n",
       "      <td>2.4967</td>\n",
       "      <td>c15</td>\n",
       "      <td>0.11923</td>\n",
       "      <td>0.7977</td>\n",
       "    </tr>\n",
       "  </tbody>\n",
       "</table>\n",
       "</div>"
      ],
      "text/plain": [
       "                    Model             Group       b  umax 20  a_PCmax  \\\n",
       "0      SQSU (Generic Q10)  Coccolithophores  0.0382   1.8269   2.3819   \n",
       "1      SQSU (Generic Q10)   Dinoflagellates  0.0382   1.8269   3.0166   \n",
       "2      SQSU (Generic Q10)     Cyanobacteria  0.0382   1.8269   2.3446   \n",
       "3      SQSU (Generic Q10)           Diatoms  0.0382   1.8269   2.3819   \n",
       "4   SQDU (Different µmax)   Dinoflagellates  0.0575   0.8195   1.3532   \n",
       "5   SQDU (Different µmax)     Cyanobacteria  0.0575   0.9193   1.1798   \n",
       "6   SQDU (Different µmax)           Diatoms  0.0575   2.2122   2.8842   \n",
       "7   SQDU (Different µmax)  Coccolithophores  0.0575   1.6581   2.1618   \n",
       "8   DQDU (Different Q10s)  Coccolithophores  0.0353   1.4920   1.9558   \n",
       "9   DQDU (Different Q10s)   Dinoflagellates  0.0512   0.8057   1.3363   \n",
       "10  DQDU (Different Q10s)     Cyanobacteria  0.0758   0.8685   1.1098   \n",
       "11  DQDU (Different Q10s)           Diatoms  0.0438   1.9232   2.4967   \n",
       "\n",
       "   phenotype      K_N  umax 0  \n",
       "0         c5  0.11375  0.8510  \n",
       "1        c24  0.27262  0.8510  \n",
       "2         c2  0.03065  0.8510  \n",
       "3        c15  0.11375  0.8510  \n",
       "4        c24  0.12229  0.2595  \n",
       "5         c2  0.01543  0.2911  \n",
       "6        c15  0.13773  0.7005  \n",
       "7         c5  0.10324  0.5250  \n",
       "8         c5  0.09340  0.7408  \n",
       "9        c24  0.12076  0.2905  \n",
       "10        c2  0.01451  0.1899  \n",
       "11       c15  0.11923  0.7977  "
      ]
     },
     "execution_count": 39,
     "metadata": {},
     "output_type": "execute_result"
    }
   ],
   "source": [
    "# Load parameters\n",
    "# In all files, SQSU = Eppley, SQDU = Kremer, DQDU = Anderson\n",
    "param = pd.read_csv('data/ModelParameters.csv')\n",
    "param"
   ]
  },
  {
   "cell_type": "code",
   "execution_count": 40,
   "metadata": {
    "id": "8wlu7myXd6dQ"
   },
   "outputs": [],
   "source": [
    "param = np.array(param)"
   ]
  },
  {
   "cell_type": "code",
   "execution_count": 41,
   "metadata": {
    "id": "iLvjQEB2P_wb"
   },
   "outputs": [],
   "source": [
    "# Define possible values for temperature and nutrients\n",
    "T = np.linspace(0,30,26)\n",
    "N = np.linspace(0,0.5,26)"
   ]
  },
  {
   "cell_type": "code",
   "execution_count": 61,
   "metadata": {
    "id": "al6gOI1zcrvg"
   },
   "outputs": [],
   "source": [
    "# Create growth as a function of parameters, T and N\n",
    "def growth(A,Q10,Kn,T,N):\n",
    "    return A*math.exp(Q10*(T))*(N/(N+Kn))"
   ]
  },
  {
   "cell_type": "code",
   "execution_count": 62,
   "metadata": {
    "id": "dadjhOs7Qdcq"
   },
   "outputs": [],
   "source": [
    "# Compute growth function for coccolithophores, SQDU\n",
    "growth_SQDU_cocco = np.zeros((26,26))\n",
    "for i in range(26):\n",
    "  for j in range(26):\n",
    "    growth_SQDU_cocco[i,j] = growth(param[7,7],param[7,2],param[7,6],T[j],N[i])"
   ]
  },
  {
   "cell_type": "code",
   "execution_count": 63,
   "metadata": {
    "id": "zJ5C3ut5Us6L"
   },
   "outputs": [],
   "source": [
    "# Compute growth function for coccolithophores, DQDU\n",
    "growth_DQDU_cocco = np.zeros((26,26))\n",
    "for i in range(26):\n",
    "  for j in range(26):\n",
    "    growth_DQDU_cocco[i,j] = growth(param[8,7],param[8,2],param[8,6],T[j],N[i])"
   ]
  },
  {
   "cell_type": "code",
   "execution_count": 64,
   "metadata": {
    "id": "fY9oXFw-SGt0"
   },
   "outputs": [],
   "source": [
    "# Compute growth function for cyanobacteria, SQDU\n",
    "growth_SQDU_cyano = np.zeros((26,26))\n",
    "for i in range(26):\n",
    "  for j in range(26):\n",
    "    growth_SQDU_cyano[i,j] = growth(param[5,7],param[5,2],param[5,6],T[j],N[i])"
   ]
  },
  {
   "cell_type": "code",
   "execution_count": 65,
   "metadata": {
    "id": "utSE0AnPWOm7"
   },
   "outputs": [],
   "source": [
    "# Compute growth function for cyanobacteria, DQDU\n",
    "growth_DQDU_cyano = np.zeros((26,26))\n",
    "for i in range(26):\n",
    "  for j in range(26):\n",
    "    growth_DQDU_cyano[i,j] = growth(param[10,7],param[10,2],param[10,6],T[j],N[i])"
   ]
  },
  {
   "cell_type": "code",
   "execution_count": 66,
   "metadata": {
    "id": "Bk_tl_z1HR85"
   },
   "outputs": [],
   "source": [
    "# Compute growth function for diatoms, SQDU\n",
    "growth_SQDU_diatoms = np.zeros((26,26))\n",
    "for i in range(26):\n",
    "  for j in range(26):\n",
    "    growth_SQDU_diatoms[i,j] = growth(param[6,7],param[6,2],param[6,6],T[j],N[i])"
   ]
  },
  {
   "cell_type": "code",
   "execution_count": 67,
   "metadata": {
    "id": "4I471y-xHgoX"
   },
   "outputs": [],
   "source": [
    "# Compute growth function for diatoms, DQDU\n",
    "growth_DQDU_diatoms = np.zeros((26,26))\n",
    "for i in range(26):\n",
    "  for j in range(26):\n",
    "    growth_DQDU_diatoms[i,j] = growth(param[11,7],param[11,2],param[11,6],T[j],N[i])"
   ]
  },
  {
   "cell_type": "code",
   "execution_count": 68,
   "metadata": {
    "id": "GRE6a91wHccO"
   },
   "outputs": [],
   "source": [
    "# Compute growth function for dinoflagellates, SQDU\n",
    "growth_SQDU_dino = np.zeros((26,26))\n",
    "for i in range(26):\n",
    "  for j in range(26):\n",
    "    growth_SQDU_dino[i,j] = growth(param[4,7],param[4,2],param[4,6],T[j],N[i])"
   ]
  },
  {
   "cell_type": "code",
   "execution_count": 69,
   "metadata": {
    "id": "m4tRBXnKHjdH"
   },
   "outputs": [],
   "source": [
    "# Compute growth function for dinoflagellates, DQDU\n",
    "growth_DQDU_dino = np.zeros((26,26))\n",
    "for i in range(26):\n",
    "  for j in range(26):\n",
    "    growth_DQDU_dino[i,j] = growth(param[9,7],param[9,2],param[9,6],T[j],N[i])"
   ]
  },
  {
   "cell_type": "code",
   "execution_count": 70,
   "metadata": {
    "colab": {
     "base_uri": "https://localhost:8080/",
     "height": 796
    },
    "id": "gAlsyE5PO5-D",
    "outputId": "1853de42-ccc3-40bc-933b-fbf403ed99ab"
   },
   "outputs": [
    {
     "data": {
      "image/png": "[encoded data removed]",
      "text/plain": [
       "<Figure size 720x720 with 6 Axes>"
      ]
     },
     "metadata": {
      "needs_background": "light"
     },
     "output_type": "display_data"
    }
   ],
   "source": [
    "# Growth comparison for different phytoplankton groups\n",
    "fig = plt.figure()\n",
    "plt.rcParams[\"figure.figsize\"] = [10, 10]\n",
    "\n",
    "# Compute Cyanobacteria - Coccolithophores for SQ10\n",
    "ax = fig.add_subplot(2, 2, 1)\n",
    "ax.imshow((growth_SQDU_cyano-growth_SQDU_cocco).T, cmap=cm.RdBu_r, vmax=0.5, vmin=-0.5)\n",
    "ax.invert_yaxis()\n",
    "ax.set_xticklabels([])\n",
    "ax.set_xlim(0,25)\n",
    "plt.yticks(fontsize=14)\n",
    "plt.ylabel('Temperature ($^\\circ$C)',fontsize=14)\n",
    "plt.title('Kremer',fontsize=16)\n",
    "\n",
    "# Compute Cyanobacteria - Coccolithophores for DQ10\n",
    "ax2 = fig.add_subplot(2, 2, 2)\n",
    "im2 = ax2.imshow((growth_DQDU_cyano-growth_DQDU_cocco).T, cmap=cm.RdBu_r,vmax=0.5,vmin=-0.5)\n",
    "ax2.invert_yaxis()\n",
    "ax2.set_xticklabels([])\n",
    "ax2.set_xlim(0,25)\n",
    "ax2.set_yticklabels([])\n",
    "plt.title('Anderson',fontsize=16)\n",
    "\n",
    "cbar_ax = fig.add_axes([0.92, 0.5, 0.04, 0.378])\n",
    "cbar_ax.tick_params(labelsize=14)\n",
    "fig.colorbar(im2, cax=cbar_ax)\n",
    "\n",
    "# Compute Diatoms - Dinoflagellates for SQ10\n",
    "ax3 = fig.add_subplot(2, 2, 3)\n",
    "ax3.imshow((growth_SQDU_diatoms-growth_SQDU_dino).T,cmap=cm.RdBu_r,vmin=-1.6,vmax=1.6)\n",
    "ax3.invert_yaxis()\n",
    "x_label_list = ['0', '0.1', '0.2', '0.3', '0.4', '0.5']\n",
    "ax3.set_xticks([0,5,10,15,20,25])\n",
    "ax3.set_xticklabels(x_label_list)\n",
    "ax3.set_xlim(0,25)\n",
    "plt.xticks(fontsize=14)\n",
    "plt.yticks(fontsize=14)\n",
    "plt.ylabel('Temperature ($^\\circ$C)',fontsize=14)\n",
    "plt.xlabel('Nutrient (mmol N)',fontsize=14)\n",
    "\n",
    "# Compute Diatoms- Dinoflagellates for DQ10\n",
    "ax4 = fig.add_subplot(2, 2, 4)\n",
    "im4 = ax4.imshow((growth_DQDU_diatoms-growth_DQDU_dino).T,cmap=cm.RdBu_r,vmin=-1.6,vmax=1.6)\n",
    "ax4.invert_yaxis()\n",
    "ax4.set_yticklabels([])\n",
    "x_label_list = ['0', '0.1', '0.2', '0.3', '0.4', '0.5']\n",
    "ax4.set_xticks([0,5,10,15,20,25])\n",
    "ax4.set_xticklabels(x_label_list)\n",
    "ax4.set_xlim(0,25)\n",
    "plt.xticks(fontsize=14)\n",
    "plt.xlabel('Nutrient (mmol N)',fontsize=14)\n",
    "\n",
    "# Adjust color bar position and spaces between subplots\n",
    "cbar_ax2 = fig.add_axes([0.92, 0.115, 0.04, 0.375])\n",
    "cbar_ax2.tick_params(labelsize=14)\n",
    "fig.colorbar(im4, cax=cbar_ax2)\n",
    "fig.subplots_adjust(wspace=0.05,\n",
    "                    hspace=0.05)\n",
    "\n",
    "# Plot and save figure\n",
    "plt.plot()\n",
    "plt.gcf().text(0.05,0.9, '(a)', fontsize=16, weight='bold')\n",
    "plt.gcf().text(0.05,0.5, '(b)', fontsize=16, weight='bold')\n",
    "plt.savefig('figures/Figure8.pdf',bbox_inches = 'tight')\n"
   ]
  },
  {
   "cell_type": "code",
   "execution_count": null,
   "metadata": {},
   "outputs": [],
   "source": []
  }
 ],
 "metadata": {
  "colab": {
   "provenance": []
  },
  "kernelspec": {
   "display_name": "Python 3 (ipykernel)",
   "language": "python",
   "name": "python3"
  },
  "language_info": {
   "codemirror_mode": {
    "name": "ipython",
    "version": 3
   },
   "file_extension": ".py",
   "mimetype": "text/x-python",
   "name": "python",
   "nbconvert_exporter": "python",
   "pygments_lexer": "ipython3",
   "version": "3.9.7"
  }
 },
 "nbformat": 4,
 "nbformat_minor": 1
}
